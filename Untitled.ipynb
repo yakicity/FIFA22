{
 "cells": [
  {
   "cell_type": "code",
   "execution_count": 2,
   "id": "b0968813-4316-4794-bed0-8cac59821b12",
   "metadata": {},
   "outputs": [
    {
     "data": {
      "text/plain": [
       "4"
      ]
     },
     "execution_count": 2,
     "metadata": {},
     "output_type": "execute_result"
    }
   ],
   "source": [
    "1 + 3"
   ]
  },
  {
   "cell_type": "code",
   "execution_count": null,
   "id": "7df69076-7e58-4f84-9d4b-6bcdfeed47c2",
   "metadata": {},
   "outputs": [],
   "source": []
  },
  {
   "cell_type": "code",
   "execution_count": null,
   "id": "f0da6a34-9bce-4bea-affc-e9d31f1980c5",
   "metadata": {},
   "outputs": [],
   "source": []
  },
  {
   "cell_type": "markdown",
   "id": "d5f7c00a-cc2a-4cc7-89cc-609771018d0a",
   "metadata": {},
   "source": [
    "#　まず"
   ]
  },
  {
   "cell_type": "code",
   "execution_count": null,
   "id": "0873f829-cbbe-4691-a4da-87d6f5fcbb03",
   "metadata": {},
   "outputs": [],
   "source": []
  },
  {
   "cell_type": "code",
   "execution_count": null,
   "id": "26d55439-177b-48bc-bebb-dcc8eb5732ef",
   "metadata": {},
   "outputs": [],
   "source": []
  }
 ],
 "metadata": {
  "kernelspec": {
   "display_name": "Python 3 (ipykernel)",
   "language": "python",
   "name": "python3"
  },
  "language_info": {
   "codemirror_mode": {
    "name": "ipython",
    "version": 3
   },
   "file_extension": ".py",
   "mimetype": "text/x-python",
   "name": "python",
   "nbconvert_exporter": "python",
   "pygments_lexer": "ipython3",
   "version": "3.10.0"
  }
 },
 "nbformat": 4,
 "nbformat_minor": 5
}
