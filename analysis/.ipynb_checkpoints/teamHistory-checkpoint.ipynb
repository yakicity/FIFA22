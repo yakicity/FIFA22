{
 "cells": [
  {
   "cell_type": "code",
   "execution_count": 3,
   "id": "b175c1af-c24a-4d9c-8251-8252980ad951",
   "metadata": {},
   "outputs": [],
   "source": [
    "import numpy as np\n",
    "import pandas as pd\n",
    "import matplotlib.pyplot as plt\n",
    "import japanize_matplotlib"
   ]
  },
  {
   "cell_type": "code",
   "execution_count": 4,
   "id": "72b71530-c253-442e-b990-633e3fc42bf8",
   "metadata": {},
   "outputs": [],
   "source": [
    "df = pd.read_csv(\"/python/csv/ManchesterCity_Year.csv\")"
   ]
  },
  {
   "cell_type": "markdown",
   "id": "52eb26db-204f-4528-a8ff-5d2fc6b1750a",
   "metadata": {},
   "source": [
    "**pandasのデータちょっと使いやすく改造**"
   ]
  },
  {
   "cell_type": "code",
   "execution_count": 5,
   "id": "8ed9ca5b-ec39-409c-b6a0-86c453c65330",
   "metadata": {},
   "outputs": [],
   "source": [
    "# 勝率\n",
    "rateWin = []\n",
    "for i in range(len(df)):\n",
    "  rateWin.append( (float(df['Overall :Wins'][i])) / (float(df['Overall :Matches'][i])) )\n",
    "df['RateWin'] = rateWin\n",
    "\n",
    "# ゴールと 被ゴール\n",
    "goals = []\n",
    "enemyGoals = []\n",
    "for i in range(len(df)):\n",
    "  goals.append(float(df['Overall :Goals'].values[i].split(':')[0]))\n",
    "  enemyGoals.append(float(df['Overall :Goals'].values[i].split(':')[1]))\n",
    "df['Goals'] = goals\n",
    "df['EnemyGoals'] = enemyGoals"
   ]
  },
  {
   "cell_type": "markdown",
   "id": "34b15515-5c9d-4258-bdfd-dbd9842647d6",
   "metadata": {},
   "source": [
    "**今回の説明と目的はこれ**"
   ]
  },
  {
   "cell_type": "code",
   "execution_count": 6,
   "id": "f52b4206-1d09-4a56-8bbb-a10555edbc18",
   "metadata": {},
   "outputs": [
    {
     "name": "stdout",
     "output_type": "stream",
     "text": [
      "[ 51.  67.  72.  79.  41.  30.  45.  65.  32.  64.  27.  28.   8.  -8.\n",
      " -15.  -5.   8.   1.  -7.  56. -24.  38. -25. -11. -11.   5.  13.  11.\n",
      "  -9. -21. -14. -23.  -1.  -3. -22.   2.  23.  26.  18.   0.  -7.  -3.\n",
      "  32.   5.   7.   9.  43.  -9.]\n",
      "[0.71052632 0.68421053 0.84210526 0.84210526 0.60526316 0.5\n",
      " 0.63157895 0.71052632 0.60526316 0.73684211 0.55263158 0.47368421\n",
      " 0.39473684 0.39473684 0.28947368 0.34210526 0.34210526 0.23684211\n",
      " 0.39473684 0.67391304 0.21052632 0.56521739 0.23684211 0.28571429\n",
      " 0.21428571 0.35714286 0.47619048 0.44736842 0.31578947 0.19047619\n",
      " 0.26190476 0.30952381 0.35714286 0.33333333 0.28571429 0.30952381\n",
      " 0.47619048 0.5        0.38095238 0.42857143 0.33333333 0.35714286\n",
      " 0.54761905 0.28571429 0.38095238 0.35714286 0.61904762 0.28571429]\n"
     ]
    }
   ],
   "source": [
    "X = np.array(goals) - np.array(enemyGoals)\n",
    "Y = np.array(rateWin)\n",
    "print(X)\n",
    "print(Y)"
   ]
  },
  {
   "cell_type": "markdown",
   "id": "57bf9d91-18db-4cf6-8dd7-819f392fcdfa",
   "metadata": {},
   "source": [
    "**グラフを描画する関数**"
   ]
  },
  {
   "cell_type": "code",
   "execution_count": 7,
   "id": "27d8734c-425e-49fb-be02-dfad74631233",
   "metadata": {},
   "outputs": [],
   "source": [
    "# グラフのプロットする関数\n",
    "def show_graph(X, Y, x, y):\n",
    "    fig, ax = plt.subplots(dpi=100) #グラフの解像度（dpi）\n",
    "    ax.scatter(X, Y, marker='.')\n",
    "    ax.plot(x, y, 'tab:red')  #xy軸の値とどうかくか…いまは赤線\n",
    "    ax.set_title('タイトル')\n",
    "    ax.set_xlabel('説明変数')\n",
    "    ax.set_ylabel('目的変数')\n",
    "    # ax.set_xlim(xmin, xmax)\n",
    "    # ax.set_ylim(ymin, ymax)\n",
    "    ax.grid()\n",
    "    fig.show()"
   ]
  },
  {
   "cell_type": "markdown",
   "id": "332a0a15-6c0a-403f-9f8f-6878366b3189",
   "metadata": {},
   "source": [
    "## 回帰をやってく"
   ]
  },
  {
   "cell_type": "code",
   "execution_count": null,
   "id": "8d7baef4-3953-4e1d-a74d-e72ecff530d2",
   "metadata": {},
   "outputs": [],
   "source": []
  }
 ],
 "metadata": {
  "kernelspec": {
   "display_name": "Python 3 (ipykernel)",
   "language": "python",
   "name": "python3"
  },
  "language_info": {
   "codemirror_mode": {
    "name": "ipython",
    "version": 3
   },
   "file_extension": ".py",
   "mimetype": "text/x-python",
   "name": "python",
   "nbconvert_exporter": "python",
   "pygments_lexer": "ipython3",
   "version": "3.10.0"
  }
 },
 "nbformat": 4,
 "nbformat_minor": 5
}
